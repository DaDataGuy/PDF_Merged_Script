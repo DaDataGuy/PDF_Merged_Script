{
 "cells": [
  {
   "cell_type": "code",
   "execution_count": 7,
   "id": "575d5db6",
   "metadata": {},
   "outputs": [],
   "source": [
    "import os\n",
    "import PyPDF2\n",
    "from PyPDF2 import PdfReader , PdfWriter, PdfMerger"
   ]
  },
  {
   "cell_type": "code",
   "execution_count": 8,
   "id": "c2925226",
   "metadata": {},
   "outputs": [],
   "source": [
    "pdfFiles = []\n",
    "\n",
    "for root, dirs, filenames in os.walk(os.getcwd()):\n",
    "    for filename in filenames:\n",
    "        if filename.lower().endswith('.pdf'):\n",
    "            pdfFiles.append(os.path.join(root,filename))\n",
    "            \n",
    "pdfFiles.sort(key=str.lower)\n",
    "pdfWriter = PyPDF2.PdfWriter()"
   ]
  },
  {
   "cell_type": "code",
   "execution_count": 9,
   "id": "408c6594",
   "metadata": {},
   "outputs": [
    {
     "data": {
      "text/plain": [
       "['C:\\\\Users\\\\NAME\\\\Desktop\\\\Data Science\\\\Jupyter Notebook\\\\Sandbox\\\\Merge PDFs\\\\Test_PDFs\\\\Harry Potter - Final.pdf',\n",
       " 'C:\\\\Users\\\\NAME\\\\Desktop\\\\Data Science\\\\Jupyter Notebook\\\\Sandbox\\\\Merge PDFs\\\\Test_PDFs\\\\Mexico Restaurant Ratings.pdf',\n",
       " 'C:\\\\Users\\\\NAME\\\\Desktop\\\\Data Science\\\\Jupyter Notebook\\\\Sandbox\\\\Merge PDFs\\\\Test_PDFs\\\\Super Bowl-Final.pdf']"
      ]
     },
     "execution_count": 9,
     "metadata": {},
     "output_type": "execute_result"
    }
   ],
   "source": [
    "pdfFiles"
   ]
  },
  {
   "cell_type": "code",
   "execution_count": 10,
   "id": "20ed765a",
   "metadata": {},
   "outputs": [
    {
     "name": "stdout",
     "output_type": "stream",
     "text": [
      "3\n"
     ]
    }
   ],
   "source": [
    "print(len(pdfFiles))"
   ]
  },
  {
   "cell_type": "code",
   "execution_count": 11,
   "id": "96804ad1",
   "metadata": {},
   "outputs": [],
   "source": [
    "for filename in pdfFiles:\n",
    "    pdfFileObj = open(filename, 'rb')\n",
    "    pdfReader = PyPDF2.PdfReader(pdfFileObj)\n",
    "    for pageNum in range(0, len(pdfReader.pages)):\n",
    "        pageObj = pdfReader.pages[pageNum]\n",
    "        pdfWriter.add_page(pageObj)"
   ]
  },
  {
   "cell_type": "code",
   "execution_count": 12,
   "id": "8cc58e48",
   "metadata": {},
   "outputs": [],
   "source": [
    "pdfOutput = open('Power_BI_Test_Files.pdf', 'wb')\n",
    "pdfWriter.write(pdfOutput)\n",
    "pdfOutput.close()"
   ]
  },
  {
   "cell_type": "markdown",
   "id": "f3ce4361",
   "metadata": {},
   "source": [
    "NOTES: \n",
    "1) https://www.reddit.com/r/learnpython/comments/f7xbeg/pypdf2_doesnt_acknowledge_my_pdfs_and_im_in_a_lot/\n",
    "2) https://www.geeksforgeeks.org/working-with-pdf-files-in-python/\n",
    "3) OPEN AI: write in Python to merge multiple local PDF files into one file for an output with comments "
   ]
  },
  {
   "cell_type": "code",
   "execution_count": null,
   "id": "5e1394ab",
   "metadata": {},
   "outputs": [],
   "source": []
  }
 ],
 "metadata": {
  "kernelspec": {
   "display_name": "Python 3 (ipykernel)",
   "language": "python",
   "name": "python3"
  },
  "language_info": {
   "codemirror_mode": {
    "name": "ipython",
    "version": 3
   },
   "file_extension": ".py",
   "mimetype": "text/x-python",
   "name": "python",
   "nbconvert_exporter": "python",
   "pygments_lexer": "ipython3",
   "version": "3.9.7"
  }
 },
 "nbformat": 4,
 "nbformat_minor": 5
}
